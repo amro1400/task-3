{
  "nbformat": 4,
  "nbformat_minor": 0,
  "metadata": {
    "colab": {
      "provenance": []
    },
    "kernelspec": {
      "name": "python3",
      "display_name": "Python 3"
    },
    "language_info": {
      "name": "python"
    }
  },
  "cells": [
    {
      "cell_type": "code",
      "source": [
        "import pandas as pd\n",
        "\n",
        "# 1. Create DataFrame\n",
        "students_data = pd.DataFrame({\n",
        "    'Name': ['Alice', 'Bob', 'Charlie', 'David', 'Eva'],\n",
        "    'Age': [20, 22, 19, 21, 20],\n",
        "    'Grade': ['A', 'B', 'A', 'C', 'B'],\n",
        "    'Marks': [85, 78, 92, 65, 74]\n",
        "})\n",
        "\n",
        "# 2. Access Data\n",
        "first_3_rows = students_data.head(3)\n",
        "name_marks = students_data[['Name', 'Marks']]\n",
        "grade_A_students = students_data[students_data['Grade'] == 'A']\n",
        "\n",
        "# Print results\n",
        "print(\"First 3 rows:\\n\", first_3_rows)\n",
        "print(\"\\nName and Marks columns:\\n\", name_marks)\n",
        "print(\"\\nStudents with Grade A:\\n\", grade_A_students)"
      ],
      "metadata": {
        "colab": {
          "base_uri": "https://localhost:8080/"
        },
        "id": "J2xgVyEjXa_b",
        "outputId": "766cc55e-603e-4370-f730-f6bb78dcf90d"
      },
      "execution_count": 2,
      "outputs": [
        {
          "output_type": "stream",
          "name": "stdout",
          "text": [
            "First 3 rows:\n",
            "       Name  Age Grade  Marks\n",
            "0    Alice   20     A     85\n",
            "1      Bob   22     B     78\n",
            "2  Charlie   19     A     92\n",
            "\n",
            "Name and Marks columns:\n",
            "       Name  Marks\n",
            "0    Alice     85\n",
            "1      Bob     78\n",
            "2  Charlie     92\n",
            "3    David     65\n",
            "4      Eva     74\n",
            "\n",
            "Students with Grade A:\n",
            "       Name  Age Grade  Marks\n",
            "0    Alice   20     A     85\n",
            "2  Charlie   19     A     92\n"
          ]
        }
      ]
    }
  ]
}