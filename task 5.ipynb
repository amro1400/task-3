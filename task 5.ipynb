{
  "nbformat": 4,
  "nbformat_minor": 0,
  "metadata": {
    "colab": {
      "provenance": []
    },
    "kernelspec": {
      "name": "python3",
      "display_name": "Python 3"
    },
    "language_info": {
      "name": "python"
    }
  },
  "cells": [
    {
      "cell_type": "code",
      "source": [
        "def is_prime(n):\n",
        "    if n <= 1:\n",
        "        return False\n",
        "    for i in range(2, int(n ** 0.5) + 1):\n",
        "        if n % i == 0:\n",
        "            return False\n",
        "    return True\n"
      ],
      "metadata": {
        "id": "68h5iKLYFMfe"
      },
      "execution_count": 1,
      "outputs": []
    },
    {
      "cell_type": "code",
      "source": [
        "class Book:\n",
        "    def __init__(self, title, author, isbn):\n",
        "        self.title = title\n",
        "        self.author = author\n",
        "        self.__isbn = isbn  # private\n",
        "        self.available = True\n",
        "\n",
        "    def display_info(self):\n",
        "        print(f\"Title: {self.title}, Author: {self.author}, ISBN: {self.__isbn}, Available: {self.available}\")\n",
        "\n",
        "    def get_isbn(self):\n",
        "        return self.__isbn\n",
        "\n",
        "    def set_isbn(self, new_isbn):\n",
        "        self.__isbn = new_isbn\n",
        "\n",
        "\n",
        "class Member:\n",
        "    def __init__(self, name, membership_id):\n",
        "        self.name = name\n",
        "        self.__membership_id = membership_id  # private\n",
        "        self.borrowed_books = []\n",
        "\n",
        "    def borrow_book(self, book):\n",
        "        if book.available:\n",
        "            book.available = False\n",
        "            self.borrowed_books.append(book)\n",
        "            print(f\"{self.name} borrowed {book.title}.\")\n",
        "        else:\n",
        "            print(f\"Sorry, {book.title} is not available.\")\n",
        "\n",
        "    def return_book(self, book):\n",
        "        if book in self.borrowed_books:\n",
        "            book.available = True\n",
        "            self.borrowed_books.remove(book)\n",
        "            print(f\"{self.name} returned {book.title}.\")\n",
        "        else:\n",
        "            print(f\"{self.name} did not borrow {book.title}.\")\n",
        "\n",
        "    def get_membership_id(self):\n",
        "        return self.__membership_id\n",
        "\n",
        "    def set_membership_id(self, new_id):\n",
        "        self.__membership_id = new_id\n",
        "\n",
        "\n",
        "class StaffMember(Member):\n",
        "    def __init__(self, name, membership_id, staff_id):\n",
        "        super().__init__(name, membership_id)\n",
        "        self.staff_id = staff_id\n",
        "\n",
        "    def add_book(self, library, title, author, isbn):\n",
        "        new_book = Book(title, author, isbn)\n",
        "        library.add_book(new_book)\n",
        "        print(f\"Book '{title}' added to the library by staff member {self.name}.\")\n",
        "\n",
        "\n",
        "class Library:\n",
        "    def __init__(self):\n",
        "        self.books = []\n",
        "\n",
        "    def add_book(self, book):\n",
        "        self.books.append(book)\n",
        "\n",
        "    def show_books(self):\n",
        "        for book in self.books:\n",
        "            book.display_info()\n",
        "\n",
        "\n",
        "# Example usage:\n",
        "if __name__ == \"__main__\":\n",
        "    library = Library()\n",
        "\n",
        "    staff = StaffMember(\"Alice\", \"M001\", \"S001\")\n",
        "    staff.add_book(library, \"1984\", \"George Orwell\", \"123456789\")\n",
        "    staff.add_book(library, \"To Kill a Mockingbird\", \"Harper Lee\", \"987654321\")\n",
        "\n",
        "    library.show_books()\n",
        "\n",
        "    member = Member(\"Bob\", \"M002\")\n",
        "    member.borrow_book(library.books[0])\n",
        "    member.borrow_book(library.books[1])\n",
        "    member.return_book(library.books[0])\n",
        "\n",
        "    library.show_books()\n"
      ],
      "metadata": {
        "colab": {
          "base_uri": "https://localhost:8080/"
        },
        "id": "zkRyiYjaHzSE",
        "outputId": "edb18f7d-737d-4bed-f78c-e75d12fea0b3"
      },
      "execution_count": 2,
      "outputs": [
        {
          "output_type": "stream",
          "name": "stdout",
          "text": [
            "Book '1984' added to the library by staff member Alice.\n",
            "Book 'To Kill a Mockingbird' added to the library by staff member Alice.\n",
            "Title: 1984, Author: George Orwell, ISBN: 123456789, Available: True\n",
            "Title: To Kill a Mockingbird, Author: Harper Lee, ISBN: 987654321, Available: True\n",
            "Bob borrowed 1984.\n",
            "Bob borrowed To Kill a Mockingbird.\n",
            "Bob returned 1984.\n",
            "Title: 1984, Author: George Orwell, ISBN: 123456789, Available: True\n",
            "Title: To Kill a Mockingbird, Author: Harper Lee, ISBN: 987654321, Available: False\n"
          ]
        }
      ]
    }
  ]
}