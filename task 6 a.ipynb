{
  "nbformat": 4,
  "nbformat_minor": 0,
  "metadata": {
    "colab": {
      "provenance": []
    },
    "kernelspec": {
      "name": "python3",
      "display_name": "Python 3"
    },
    "language_info": {
      "name": "python"
    }
  },
  "cells": [
    {
      "cell_type": "code",
      "source": [
        "import numpy as np\n",
        "\n",
        "# 1. Create Arrays\n",
        "A = np.array([10, 20, 30, 40, 50])\n",
        "B = np.array([5, 4, 3, 2, 1])\n",
        "\n",
        "# 2. Perform Operations\n",
        "addition = A + B\n",
        "subtraction = A - B\n",
        "multiplication = A * B\n",
        "division = A / B\n",
        "\n",
        "# 3. Apply NumPy Functions\n",
        "mean_A = np.mean(A)\n",
        "max_A = np.max(A)\n",
        "min_A = np.min(A)\n",
        "dot_product = np.dot(A, B)\n",
        "A_reshaped = A.reshape(5, 1)\n",
        "\n",
        "# Print results\n",
        "print(\"Addition:\", addition)\n",
        "print(\"Subtraction:\", subtraction)\n",
        "print(\"Multiplication:\", multiplication)\n",
        "print(\"Division:\", division)\n",
        "print(\"\\nMean of A:\", mean_A)\n",
        "print(\"Max of A:\", max_A)\n",
        "print(\"Min of A:\", min_A)\n",
        "print(\"Dot product:\", dot_product)\n",
        "print(\"Reshaped A:\\n\", A_reshaped)"
      ],
      "metadata": {
        "colab": {
          "base_uri": "https://localhost:8080/"
        },
        "id": "OsecyPxKWZ3s",
        "outputId": "45077092-abb8-4a89-b762-156480f0fe98"
      },
      "execution_count": 1,
      "outputs": [
        {
          "output_type": "stream",
          "name": "stdout",
          "text": [
            "Addition: [15 24 33 42 51]\n",
            "Subtraction: [ 5 16 27 38 49]\n",
            "Multiplication: [50 80 90 80 50]\n",
            "Division: [ 2.  5. 10. 20. 50.]\n",
            "\n",
            "Mean of A: 30.0\n",
            "Max of A: 50\n",
            "Min of A: 10\n",
            "Dot product: 350\n",
            "Reshaped A:\n",
            " [[10]\n",
            " [20]\n",
            " [30]\n",
            " [40]\n",
            " [50]]\n"
          ]
        }
      ]
    }
  ]
}